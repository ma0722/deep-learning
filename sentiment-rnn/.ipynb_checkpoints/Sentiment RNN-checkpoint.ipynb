{
 "cells": [
  {
   "cell_type": "code",
   "execution_count": 136,
   "metadata": {
    "collapsed": true,
    "deletable": true,
    "editable": true
   },
   "outputs": [],
   "source": [
    "import numpy as np\n",
    "import tensorflow as tf"
   ]
  },
  {
   "cell_type": "code",
   "execution_count": 137,
   "metadata": {
    "collapsed": false,
    "deletable": true,
    "editable": true
   },
   "outputs": [],
   "source": [
    "with open('reviews.txt', 'r') as f:\n",
    "    reviews = f.read()\n",
    "with open('labels.txt', 'r') as f:\n",
    "    labels = f.read()"
   ]
  },
  {
   "cell_type": "code",
   "execution_count": 138,
   "metadata": {
    "collapsed": false,
    "deletable": true,
    "editable": true
   },
   "outputs": [
    {
     "name": "stdout",
     "output_type": "stream",
     "text": [
      "33678267\n",
      "225000\n"
     ]
    }
   ],
   "source": [
    "print(len(reviews))\n",
    "print(len(labels))"
   ]
  },
  {
   "cell_type": "code",
   "execution_count": 139,
   "metadata": {
    "collapsed": false,
    "deletable": true,
    "editable": true
   },
   "outputs": [
    {
     "name": "stdout",
     "output_type": "stream",
     "text": [
      "!\"#$%&'()*+,-./:;<=>?@[\\]^_`{|}~\n"
     ]
    }
   ],
   "source": [
    "from string import punctuation\n",
    "print(punctuation)"
   ]
  },
  {
   "cell_type": "code",
   "execution_count": 140,
   "metadata": {
    "collapsed": true,
    "deletable": true,
    "editable": true
   },
   "outputs": [],
   "source": [
    "all_text = ''.join([c for c in reviews if c not in punctuation])\n",
    "reviews = all_text.split('\\n')\n",
    "\n",
    "all_text = ' '.join(reviews)\n",
    "words = all_text.split()"
   ]
  },
  {
   "cell_type": "code",
   "execution_count": 141,
   "metadata": {
    "collapsed": false,
    "deletable": true,
    "editable": true
   },
   "outputs": [],
   "source": [
    "vocab_to_int = {word : index for index, word in enumerate(set(words))}\n",
    "\n",
    "reviews_ints = [[vocab_to_int[word] for word in review.split()] for review in reviews]"
   ]
  },
  {
   "cell_type": "code",
   "execution_count": 142,
   "metadata": {
    "collapsed": false,
    "deletable": true,
    "editable": true
   },
   "outputs": [],
   "source": [
    "labels = np.array([1 if label == 'positive' else 0 for label in labels.split()])"
   ]
  },
  {
   "cell_type": "code",
   "execution_count": 144,
   "metadata": {
    "collapsed": false,
    "deletable": true,
    "editable": true
   },
   "outputs": [
    {
     "name": "stdout",
     "output_type": "stream",
     "text": [
      "Zero-length reviews: 1\n",
      "Maximum review length: 2514\n"
     ]
    }
   ],
   "source": [
    "from collections import Counter\n",
    "review_lens = Counter([len(review) for review in reviews_ints])\n",
    "# print(review_lens)\n",
    "print(\"Zero-length reviews: {}\".format(review_lens[0]))\n",
    "print(\"Maximum review length: {}\".format(max(review_lens)))"
   ]
  },
  {
   "cell_type": "code",
   "execution_count": 145,
   "metadata": {
    "collapsed": true,
    "deletable": true,
    "editable": true
   },
   "outputs": [],
   "source": [
    "review_ints = [reviews_int for reviews_int in reviews_ints if len(reviews_int) > 0 ]"
   ]
  },
  {
   "cell_type": "code",
   "execution_count": 146,
   "metadata": {
    "collapsed": false,
    "deletable": true,
    "editable": true
   },
   "outputs": [],
   "source": [
    "seq_len = 200\n",
    "features = []\n",
    "for review_int in review_ints:\n",
    "    temp = []\n",
    "    length = len(review_int)\n",
    "    if length <= seq_len:\n",
    "        temp = [0] * (seq_len - length)\n",
    "        temp += review_int\n",
    "    else:\n",
    "        temp = review_int[:seq_len]\n",
    "    features.append(temp)\n",
    "features = np.array(features)"
   ]
  },
  {
   "cell_type": "code",
   "execution_count": 147,
   "metadata": {
    "collapsed": false,
    "deletable": true,
    "editable": true
   },
   "outputs": [
    {
     "data": {
      "text/plain": [
       "array([[    0,     0,     0,     0,     0,     0,     0,     0,     0,\n",
       "            0,     0,     0,     0,     0,     0,     0,     0,     0,\n",
       "            0,     0,     0,     0,     0,     0,     0,     0,     0,\n",
       "            0,     0,     0,     0,     0,     0,     0,     0,     0,\n",
       "            0,     0,     0,     0,     0,     0,     0,     0,     0,\n",
       "            0,     0,     0,     0,     0,     0,     0,     0,     0,\n",
       "            0,     0,     0,     0,     0,     0, 34001, 40247, 57501,\n",
       "          781, 42282, 59513, 10873, 56054, 69233, 71774, 39424, 22228,\n",
       "        48856, 46963, 16215, 22184, 24261, 12971, 48982, 14167, 48856,\n",
       "        53513, 62473, 67372, 33548, 71774, 38030, 73479, 71816,   645,\n",
       "        54390, 53015, 29956, 34001, 40247, 32020, 60762, 57501, 59104,\n",
       "        40777],\n",
       "       [    0,     0,     0,     0,     0,     0,     0,     0,     0,\n",
       "            0,     0,     0,     0,     0,     0,     0,     0,     0,\n",
       "            0,     0,     0,     0,     0,     0,     0,     0,     0,\n",
       "            0,     0,     0,     0,     0,     0,     0,     0,     0,\n",
       "            0,     0,     0,     0,     0,     0,     0,     0,     0,\n",
       "            0,     0,     0,     0,     0,     0,     0,     0,     0,\n",
       "            0,     0,     0,     0,     0,     0,     0,     0,     0,\n",
       "            0,     0,     0,     0,     0,     0,     0,     0,     0,\n",
       "            0,     0,     0,     0,     0,     0,     0,     0,     0,\n",
       "            0,     0,     0,     0,     0, 22970, 18551,   781, 64541,\n",
       "        52524,  8274, 27486, 70084, 48062,   781, 58394, 59152, 42776,\n",
       "        24113],\n",
       "       [39071, 66764, 35429, 48856, 24725, 22623, 33024,  8274, 50463,\n",
       "        36737, 42496, 48062, 67372, 18960, 53256,   781, 21592, 54390,\n",
       "        44724, 14433,  6431, 71774, 25984, 29956, 12411, 39714, 14465,\n",
       "        15851, 52524, 53861, 18401,  1695, 30877, 54390, 12971, 14494,\n",
       "        66764, 51526, 48062, 71774,  6072, 72305, 37556, 52434, 18551,\n",
       "        71774, 64757, 48856, 62200,   781, 48233, 53757, 36243, 37954,\n",
       "        24261, 19133, 14167, 48856, 71067, 71774, 48370,  6431, 52050,\n",
       "        48726, 11775, 54390, 54675, 36078, 71774, 37515, 53411, 66764,\n",
       "        37954,  1398, 54397, 23435, 14066, 66649, 54390, 28591, 37197,\n",
       "         6431, 71774, 67404, 26945, 26945, 18960, 24299,  1398, 44159,\n",
       "        12411, 37260,   781, 40311, 54390, 66287,  6431, 71774, 67404,\n",
       "        48062],\n",
       "       [73646, 59152, 48856,   781, 15622, 33371,  8156, 33007, 57501,\n",
       "        11287, 37197, 24113, 62092, 43278, 14167, 28229, 54390, 57194,\n",
       "        57928, 48482, 69057, 39906, 27302, 52524, 57501, 38290, 53976,\n",
       "          781, 43167, 18551,  2889, 32020, 54390, 53296, 37733, 33548,\n",
       "        26661, 18551, 10873, 16951,  5046, 54390, 71774, 17234, 48856,\n",
       "          781, 29408, 26071,  6431, 19186, 57501, 69057, 57419, 47186,\n",
       "        46690, 36075, 14517, 21752, 71774,  8156, 61243, 20031, 31249,\n",
       "        48856, 14152, 18960, 19376,  4497, 71774, 33007, 57501, 10780,\n",
       "        30783, 38034, 71774, 39657,  7314, 68603, 67576, 49194, 53296,\n",
       "        54284, 68421, 32020, 14965, 17202,  8745, 64991, 43487, 20732,\n",
       "        52524,  4389, 71774, 29547, 66672, 42776, 24113,  7297, 54547,\n",
       "        54397],\n",
       "       [    0,     0,     0,     0,     0,     0,     0,     0,     0,\n",
       "            0,     0,     0,     0,     0,     0,     0,     0,     0,\n",
       "            0,     0,     0,     0,     0,     0,     0,     0,     0,\n",
       "            0,     0,     0,     0,     0,     0,     0,     0,     0,\n",
       "            0,     0,     0,     0,     0,     0,     0,     0,     0,\n",
       "            0,     0,     0,     0,     0, 55357, 62389, 34289, 38034,\n",
       "        24422, 58477, 29734, 37243, 70991, 41573, 48612, 35609, 26608,\n",
       "        56964, 34520, 34244, 73584, 35394, 33548, 51090, 72113, 46154,\n",
       "        67527, 54390,  5794, 71774, 13731,  6431, 52621, 57501,   781,\n",
       "        15724, 48856, 46460, 48856, 68363, 33548, 11359, 57231, 71774,\n",
       "        70687,  6431, 69838, 57501, 26071, 30912,  2536, 16951, 55137,\n",
       "        18551],\n",
       "       [    0,     0,     0,     0,     0,     0,     0,     0,     0,\n",
       "            0,     0,     0,     0,     0,     0,     0,     0,     0,\n",
       "            0,     0,     0,     0,     0,     0,     0,     0,     0,\n",
       "            0,     0,     0,     0,     0,     0,     0,     0,     0,\n",
       "            0,     0,     0,     0,     0,     0,     0,     0,     0,\n",
       "            0,     0,     0,     0,     0,     0,     0,     0,     0,\n",
       "        73981, 33341, 44927, 37219, 35609, 60197, 29979, 47768, 62473,\n",
       "        68520,  6431, 69233,  5444, 50223,  6431, 71774, 59760, 18551,\n",
       "        71774, 14924, 24702, 73981, 12629, 46310, 54390,  2411, 18551,\n",
       "        44336, 37180, 14887, 15052, 71774, 27610, 24113, 14517, 14924,\n",
       "        64541, 18182, 71774, 33682, 35394, 14043, 12877, 48856, 16951,\n",
       "         8286],\n",
       "       [    0,     0,     0,     0,     0,     0,     0,     0,     0,\n",
       "            0,     0,     0,     0,     0,     0,     0,     0,     0,\n",
       "            0,     0,     0,     0,     0,     0,     0,     0,     0,\n",
       "            0,     0,     0,     0,     0,     0,     0,     0,     0,\n",
       "            0,     0,     0,     0,     0,     0,     0,     0,     0,\n",
       "            0,     0,     0,     0,     0,     0,     0,     0,     0,\n",
       "            0,     0,     0,     0,     0,     0,     0,     0,     0,\n",
       "            0,     0,     0,     0,     0,     0,     0,     0,     0,\n",
       "            0,     0,     0,     0, 73981, 57501,    16, 71774, 72305,\n",
       "        60192, 33341, 58348, 71774, 56378,  6805, 59386, 63166, 46095,\n",
       "        10873, 67119, 31240,  5253,   781, 26696, 33074, 18551, 39071,\n",
       "        47369],\n",
       "       [    0,     0,     0,     0,     0,     0,     0,     0,     0,\n",
       "            0,     0,     0,     0,     0,     0,     0,     0,     0,\n",
       "            0,     0,     0,     0,     0,     0,     0,     0,     0,\n",
       "            0,     0,     0,     0,     0,     0,     0,     0,     0,\n",
       "            0,     0,     0,     0,     0,     0,     0,     0,     0,\n",
       "            0,     0, 39641, 27390, 35609,  4228, 73981, 57501, 32575,\n",
       "        54390, 14066, 36737, 32395, 33341, 18960, 30249, 54397, 62294,\n",
       "        26608, 29802, 42776, 39287, 69233, 71774, 39617, 18041, 37556,\n",
       "        61618, 29650, 63875, 11030, 42776, 34244, 31240, 72568, 63147,\n",
       "        71774, 42111,  1499, 34244, 35864, 30683, 61134, 36428, 73981,\n",
       "        22970, 57501, 47693, 15741, 54390, 72568, 71774, 20898, 18551,\n",
       "          781],\n",
       "       [    0,     0,     0,     0,     0,     0,     0,     0,     0,\n",
       "            0,     0,     0,     0,     0,     0,     0,     0,     0,\n",
       "            0,     0,     0,     0,     0,     0,     0,     0,     0,\n",
       "            0,     0,     0,     0,     0,     0,     0,     0,     0,\n",
       "            0,     0,     0,     0,     0,     0,     0,     0,     0,\n",
       "            0,     0,     0,     0,     0,     0,     0,     0,     0,\n",
       "            0,     0,     0,     0,     0,     0,     0,     0,     0,\n",
       "            0,     0,     0,     0,     0,     0,     0,     0,     0,\n",
       "            0,     0,     0,     0,     0,     0,     0, 73981, 57501,\n",
       "        31240, 71774, 37199, 31819, 56378, 33341, 10873, 61134, 59104,\n",
       "        28307, 18801, 35953, 72305, 18551, 53296, 26758, 34244, 54588,\n",
       "        29201],\n",
       "       [37180, 35609, 61134,  3573, 62473, 60637, 13437,   645, 38266,\n",
       "        54390, 71774, 36909, 54390, 11180, 56203, 10873, 61134, 44854,\n",
       "        18551, 27165, 26758, 35609, 41142, 24113, 62473, 60637, 18960,\n",
       "        73981, 61134, 71774, 25734, 44854, 16139, 73285, 42776, 18551,\n",
       "        55226, 48937, 35609, 29201, 53256, 34520, 56203, 44503, 62200,\n",
       "         6753, 34244, 35609, 61618, 26608, 65202, 42776, 71774, 23874,\n",
       "        18551, 62473, 48982, 73006, 10873, 24299,   781, 12032, 18867,\n",
       "        34244, 11708, 42477,  9486, 18551, 32020, 67677, 34244, 59107,\n",
       "        70250, 59885,  5269, 57501, 44854, 18551, 62473, 73935, 20636,\n",
       "        18960, 56203, 57501, 38034, 27117, 71774, 72272,  9486, 18551,\n",
       "         4803, 18551, 53296, 43589, 33548, 71774, 56515, 41574, 18551,\n",
       "        12207]])"
      ]
     },
     "execution_count": 147,
     "metadata": {},
     "output_type": "execute_result"
    }
   ],
   "source": [
    "features[:10,:100]"
   ]
  },
  {
   "cell_type": "code",
   "execution_count": 150,
   "metadata": {
    "collapsed": false,
    "deletable": true,
    "editable": true
   },
   "outputs": [
    {
     "name": "stdout",
     "output_type": "stream",
     "text": [
      "25000 20000 22500\n",
      "\t\t\tFeature Shapes:\n",
      "Train set: \t\t(20000, 200) \n",
      "Validation set: \t(2500, 200) \n",
      "Test set: \t\t(2500, 200)\n"
     ]
    }
   ],
   "source": [
    "size = features.shape[0] \n",
    "index1, index2 = int(size * 0.8), int(size * 0.9)\n",
    "print(size, index1, index2)\n",
    "train_x, val_x, test_x = features[:index1, :],features[index1:index2, :],features[index2:, :]\n",
    "train_y, val_y, test_y = labels[:index1],labels[index1:index2],labels[index2:]\n",
    "\n",
    "print(\"\\t\\t\\tFeature Shapes:\")\n",
    "print(\"Train set: \\t\\t{}\".format(train_x.shape), \n",
    "      \"\\nValidation set: \\t{}\".format(val_x.shape),\n",
    "      \"\\nTest set: \\t\\t{}\".format(test_x.shape))"
   ]
  },
  {
   "cell_type": "code",
   "execution_count": 151,
   "metadata": {
    "collapsed": true,
    "deletable": true,
    "editable": true
   },
   "outputs": [],
   "source": [
    "lstm_size = 256\n",
    "lstm_layers = 1\n",
    "batch_size = 500\n",
    "learning_rate = 0.001"
   ]
  },
  {
   "cell_type": "code",
   "execution_count": 152,
   "metadata": {
    "collapsed": false,
    "deletable": true,
    "editable": true
   },
   "outputs": [],
   "source": [
    "n_words = len(vocab_to_int)\n",
    "\n",
    "graph = tf.Graph()\n",
    "with graph.as_default():\n",
    "    inputs_ = tf.placeholder(dtype = tf.int32, shape = [batch_size, seq_len], name='input')\n",
    "    labels_ = tf.placeholder(dtype = tf.int32, shape = [batch_size, 1], name='label')\n",
    "    keep_prob = tf.placeholder(dtype = tf.float32, name='drop_out') "
   ]
  },
  {
   "cell_type": "code",
   "execution_count": 153,
   "metadata": {
    "collapsed": false,
    "deletable": true,
    "editable": true
   },
   "outputs": [],
   "source": [
    "embed_size = 300 \n",
    "\n",
    "with graph.as_default():\n",
    "    embedding = tf.Variable(tf.random_uniform((n_words, embed_size), -1, 1))\n",
    "    embed = tf.nn.embedding_lookup(embedding, inputs_)"
   ]
  },
  {
   "cell_type": "code",
   "execution_count": 154,
   "metadata": {
    "collapsed": false,
    "deletable": true,
    "editable": true
   },
   "outputs": [],
   "source": [
    "with graph.as_default():    \n",
    "    lstm = tf.contrib.rnn.BasicLSTMCell(lstm_size)\n",
    "    drop = tf.contrib.rnn.DropoutWrapper(lstm, output_keep_prob=keep_prob)\n",
    "    cell = tf.contrib.rnn.MultiRNNCell([drop] * lstm_layers)\n",
    "    initial_state = cell.zero_state(batch_size, tf.float32)"
   ]
  },
  {
   "cell_type": "code",
   "execution_count": 155,
   "metadata": {
    "collapsed": false,
    "deletable": true,
    "editable": true
   },
   "outputs": [],
   "source": [
    "with graph.as_default():\n",
    "    outputs, final_state = tf.nn.dynamic_rnn(cell, embed, initial_state=initial_state)"
   ]
  },
  {
   "cell_type": "code",
   "execution_count": 156,
   "metadata": {
    "collapsed": false,
    "deletable": true,
    "editable": true
   },
   "outputs": [],
   "source": [
    "with graph.as_default():\n",
    "    predictions = tf.contrib.layers.fully_connected(outputs[:, -1], 1, activation_fn=tf.sigmoid)\n",
    "    cost = tf.losses.mean_squared_error(labels_, predictions)\n",
    "    optimizer = tf.train.AdamOptimizer(learning_rate).minimize(cost)"
   ]
  },
  {
   "cell_type": "code",
   "execution_count": 157,
   "metadata": {
    "collapsed": false,
    "deletable": true,
    "editable": true
   },
   "outputs": [],
   "source": [
    "with graph.as_default():\n",
    "    correct_pred = tf.equal(tf.cast(tf.round(predictions), tf.int32), labels_)\n",
    "    accuracy = tf.reduce_mean(tf.cast(correct_pred, tf.float32))"
   ]
  },
  {
   "cell_type": "code",
   "execution_count": 158,
   "metadata": {
    "collapsed": false
   },
   "outputs": [
    {
     "data": {
      "text/plain": [
       "TensorShape([Dimension(500), Dimension(200), Dimension(300)])"
      ]
     },
     "execution_count": 158,
     "metadata": {},
     "output_type": "execute_result"
    }
   ],
   "source": [
    "embed.shape"
   ]
  },
  {
   "cell_type": "code",
   "execution_count": 159,
   "metadata": {
    "collapsed": true,
    "deletable": true,
    "editable": true
   },
   "outputs": [],
   "source": [
    "def get_batches(x, y, batch_size=100):\n",
    "    n_batches = len(x)//batch_size\n",
    "    x, y = x[:n_batches*batch_size], y[:n_batches*batch_size]\n",
    "    for ii in range(0, len(x), batch_size):\n",
    "        yield x[ii:ii+batch_size], y[ii:ii+batch_size]"
   ]
  },
  {
   "cell_type": "code",
   "execution_count": 160,
   "metadata": {
    "collapsed": false,
    "deletable": true,
    "editable": true
   },
   "outputs": [
    {
     "name": "stdout",
     "output_type": "stream",
     "text": [
      "Epoch: 0/10 Iteration: 5 Train loss: 0.238\n",
      "Epoch: 0/10 Iteration: 10 Train loss: 0.240\n",
      "Epoch: 0/10 Iteration: 15 Train loss: 0.214\n",
      "Epoch: 0/10 Iteration: 20 Train loss: 0.223\n",
      "Epoch: 0/10 Iteration: 25 Train loss: 0.195\n",
      "Val acc: 0.721\n",
      "Epoch: 0/10 Iteration: 30 Train loss: 0.159\n",
      "Epoch: 0/10 Iteration: 35 Train loss: 0.248\n",
      "Epoch: 0/10 Iteration: 40 Train loss: 0.197\n",
      "Epoch: 1/10 Iteration: 45 Train loss: 0.169\n",
      "Epoch: 1/10 Iteration: 50 Train loss: 0.167\n",
      "Val acc: 0.756\n",
      "Epoch: 1/10 Iteration: 55 Train loss: 0.167\n",
      "Epoch: 1/10 Iteration: 60 Train loss: 0.173\n",
      "Epoch: 1/10 Iteration: 65 Train loss: 0.144\n",
      "Epoch: 1/10 Iteration: 70 Train loss: 0.123\n",
      "Epoch: 1/10 Iteration: 75 Train loss: 0.143\n",
      "Val acc: 0.770\n",
      "Epoch: 1/10 Iteration: 80 Train loss: 0.125\n",
      "Epoch: 2/10 Iteration: 85 Train loss: 0.132\n",
      "Epoch: 2/10 Iteration: 90 Train loss: 0.198\n",
      "Epoch: 2/10 Iteration: 95 Train loss: 0.149\n",
      "Epoch: 2/10 Iteration: 100 Train loss: 0.129\n",
      "Val acc: 0.760\n",
      "Epoch: 2/10 Iteration: 105 Train loss: 0.111\n",
      "Epoch: 2/10 Iteration: 110 Train loss: 0.111\n",
      "Epoch: 2/10 Iteration: 115 Train loss: 0.114\n",
      "Epoch: 2/10 Iteration: 120 Train loss: 0.128\n",
      "Epoch: 3/10 Iteration: 125 Train loss: 0.094\n",
      "Val acc: 0.781\n",
      "Epoch: 3/10 Iteration: 130 Train loss: 0.148\n",
      "Epoch: 3/10 Iteration: 135 Train loss: 0.158\n",
      "Epoch: 3/10 Iteration: 140 Train loss: 0.186\n",
      "Epoch: 3/10 Iteration: 145 Train loss: 0.157\n",
      "Epoch: 3/10 Iteration: 150 Train loss: 0.224\n",
      "Val acc: 0.602\n",
      "Epoch: 3/10 Iteration: 155 Train loss: 0.198\n",
      "Epoch: 3/10 Iteration: 160 Train loss: 0.187\n",
      "Epoch: 4/10 Iteration: 165 Train loss: 0.124\n",
      "Epoch: 4/10 Iteration: 170 Train loss: 0.150\n",
      "Epoch: 4/10 Iteration: 175 Train loss: 0.136\n",
      "Val acc: 0.756\n",
      "Epoch: 4/10 Iteration: 180 Train loss: 0.094\n",
      "Epoch: 4/10 Iteration: 185 Train loss: 0.078\n",
      "Epoch: 4/10 Iteration: 190 Train loss: 0.097\n",
      "Epoch: 4/10 Iteration: 195 Train loss: 0.096\n",
      "Epoch: 4/10 Iteration: 200 Train loss: 0.267\n",
      "Val acc: 0.590\n",
      "Epoch: 5/10 Iteration: 205 Train loss: 0.152\n",
      "Epoch: 5/10 Iteration: 210 Train loss: 0.183\n",
      "Epoch: 5/10 Iteration: 215 Train loss: 0.179\n",
      "Epoch: 5/10 Iteration: 220 Train loss: 0.187\n",
      "Epoch: 5/10 Iteration: 225 Train loss: 0.147\n",
      "Val acc: 0.733\n",
      "Epoch: 5/10 Iteration: 230 Train loss: 0.134\n",
      "Epoch: 5/10 Iteration: 235 Train loss: 0.129\n",
      "Epoch: 5/10 Iteration: 240 Train loss: 0.130\n",
      "Epoch: 6/10 Iteration: 245 Train loss: 0.135\n",
      "Epoch: 6/10 Iteration: 250 Train loss: 0.229\n",
      "Val acc: 0.670\n",
      "Epoch: 6/10 Iteration: 255 Train loss: 0.178\n",
      "Epoch: 6/10 Iteration: 260 Train loss: 0.183\n",
      "Epoch: 6/10 Iteration: 265 Train loss: 0.219\n",
      "Epoch: 6/10 Iteration: 270 Train loss: 0.222\n",
      "Epoch: 6/10 Iteration: 275 Train loss: 0.179\n",
      "Val acc: 0.670\n",
      "Epoch: 6/10 Iteration: 280 Train loss: 0.260\n",
      "Epoch: 7/10 Iteration: 285 Train loss: 0.192\n",
      "Epoch: 7/10 Iteration: 290 Train loss: 0.205\n",
      "Epoch: 7/10 Iteration: 295 Train loss: 0.173\n",
      "Epoch: 7/10 Iteration: 300 Train loss: 0.178\n",
      "Val acc: 0.680\n",
      "Epoch: 7/10 Iteration: 305 Train loss: 0.150\n",
      "Epoch: 7/10 Iteration: 310 Train loss: 0.128\n",
      "Epoch: 7/10 Iteration: 315 Train loss: 0.109\n",
      "Epoch: 7/10 Iteration: 320 Train loss: 0.097\n",
      "Epoch: 8/10 Iteration: 325 Train loss: 0.149\n",
      "Val acc: 0.794\n",
      "Epoch: 8/10 Iteration: 330 Train loss: 0.184\n",
      "Epoch: 8/10 Iteration: 335 Train loss: 0.114\n",
      "Epoch: 8/10 Iteration: 340 Train loss: 0.138\n",
      "Epoch: 8/10 Iteration: 345 Train loss: 0.119\n",
      "Epoch: 8/10 Iteration: 350 Train loss: 0.102\n",
      "Val acc: 0.754\n",
      "Epoch: 8/10 Iteration: 355 Train loss: 0.074\n",
      "Epoch: 8/10 Iteration: 360 Train loss: 0.079\n",
      "Epoch: 9/10 Iteration: 365 Train loss: 0.071\n",
      "Epoch: 9/10 Iteration: 370 Train loss: 0.141\n",
      "Epoch: 9/10 Iteration: 375 Train loss: 0.110\n",
      "Val acc: 0.722\n",
      "Epoch: 9/10 Iteration: 380 Train loss: 0.108\n",
      "Epoch: 9/10 Iteration: 385 Train loss: 0.113\n",
      "Epoch: 9/10 Iteration: 390 Train loss: 0.084\n",
      "Epoch: 9/10 Iteration: 395 Train loss: 0.063\n",
      "Epoch: 9/10 Iteration: 400 Train loss: 0.068\n",
      "Val acc: 0.816\n"
     ]
    }
   ],
   "source": [
    "epochs = 10\n",
    "\n",
    "with graph.as_default():\n",
    "    saver = tf.train.Saver()\n",
    "\n",
    "with tf.Session(graph=graph) as sess:\n",
    "    sess.run(tf.global_variables_initializer())\n",
    "    iteration = 1\n",
    "    for e in range(epochs):\n",
    "        state = sess.run(initial_state)\n",
    "        \n",
    "        for ii, (x, y) in enumerate(get_batches(train_x, train_y, batch_size), 1):\n",
    "            feed = {inputs_: x,\n",
    "                    labels_: y[:, None],\n",
    "                    keep_prob: 0.5,\n",
    "                    initial_state: state}\n",
    "            loss, state, _ = sess.run([cost, final_state, optimizer], feed_dict=feed)\n",
    "            \n",
    "            if iteration%5==0:\n",
    "                print(\"Epoch: {}/{}\".format(e, epochs),\n",
    "                      \"Iteration: {}\".format(iteration),\n",
    "                      \"Train loss: {:.3f}\".format(loss))\n",
    "\n",
    "            if iteration%25==0:\n",
    "                val_acc = []\n",
    "                val_state = sess.run(cell.zero_state(batch_size, tf.float32))\n",
    "                for x, y in get_batches(val_x, val_y, batch_size):\n",
    "                    feed = {inputs_: x,\n",
    "                            labels_: y[:, None],\n",
    "                            keep_prob: 1,\n",
    "                            initial_state: val_state}\n",
    "                    batch_acc, val_state = sess.run([accuracy, final_state], feed_dict=feed)\n",
    "                    val_acc.append(batch_acc)\n",
    "                print(\"Val acc: {:.3f}\".format(np.mean(val_acc)))\n",
    "            iteration +=1\n",
    "    saver.save(sess, \"checkpoints/sentiment.ckpt\")"
   ]
  },
  {
   "cell_type": "code",
   "execution_count": 165,
   "metadata": {
    "collapsed": false,
    "deletable": true,
    "editable": true
   },
   "outputs": [
    {
     "name": "stdout",
     "output_type": "stream",
     "text": [
      "Test accuracy: 0.816\n"
     ]
    }
   ],
   "source": [
    "test_acc = []\n",
    "with tf.Session(graph=graph) as sess:\n",
    "    saver.restore(sess, tf.train.latest_checkpoint('checkpoints'))\n",
    "    test_state = sess.run(cell.zero_state(batch_size, tf.float32))\n",
    "    for ii, (x, y) in enumerate(get_batches(test_x, test_y, batch_size), 1):\n",
    "        feed = {inputs_: x,\n",
    "                labels_: y[:, None],\n",
    "                keep_prob: 1,\n",
    "                initial_state: test_state}\n",
    "        batch_acc, test_state = sess.run([accuracy, final_state], feed_dict=feed)\n",
    "        test_acc.append(batch_acc)\n",
    "    print(\"Test accuracy: {:.3f}\".format(np.mean(test_acc)))"
   ]
  }
 ],
 "metadata": {
  "kernelspec": {
   "display_name": "Python 3",
   "language": "python",
   "name": "python3"
  },
  "language_info": {
   "codemirror_mode": {
    "name": "ipython",
    "version": 3
   },
   "file_extension": ".py",
   "mimetype": "text/x-python",
   "name": "python",
   "nbconvert_exporter": "python",
   "pygments_lexer": "ipython3",
   "version": "3.5.2"
  }
 },
 "nbformat": 4,
 "nbformat_minor": 2
}
